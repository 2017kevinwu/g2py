{
 "cells": [
  {
   "cell_type": "code",
   "execution_count": 16,
   "id": "initial_id",
   "metadata": {
    "ExecuteTime": {
     "end_time": "2023-10-17T07:35:10.251893Z",
     "start_time": "2023-10-17T07:35:10.197895Z"
    }
   },
   "outputs": [
    {
     "data": {
      "text/html": [
       "<!DOCTYPE html>\n",
       "<html>\n",
       "<head>\n",
       "  <meta charset=\"UTF-8\">\n",
       "  <title>g2py</title>\n",
       "</head>\n",
       "<body>\n",
       "  <style>\n",
       "    * {\n",
       "      margin: 0;\n",
       "      padding: 0;\n",
       "      box-sizing: border-box;\n",
       "    }\n",
       "    html, body, div.g2-plot-container {\n",
       "      height: 100%;\n",
       "      overflow: hidden;\n",
       "    }\n",
       "  </style>\n",
       "\n",
       "  <div id=\"c658abdfec394adaa454a26e6a8acc8b\"style=\"max-width: 100%; max-height: 100%\"  class=\"g2-plot-container\"></div>\n",
       "\n",
       "  <script>\n",
       "    // load javascript\n",
       "    new Promise(function(resolve, reject) {\n",
       "      var script = document.createElement(\"script\");\n",
       "      script.onload = resolve;\n",
       "      script.onerror = reject;\n",
       "      script.src = \"https://unpkg.com/@antv/g2@5.1.4/dist/g2.min.js\";\n",
       "      document.head.appendChild(script);\n",
       "    }).then(() => {\n",
       "      var plot_c658abdfec394adaa454a26e6a8acc8b = new G2.Chart({ container: \"c658abdfec394adaa454a26e6a8acc8b\" });\n",
       "          plot_c658abdfec394adaa454a26e6a8acc8b.\n",
       "  line()\n",
       "  .data({\n",
       "    type: 'fetch',\n",
       "    value: 'https://assets.antv.antgroup.com/g2/indices.json',\n",
       "  })\n",
       "  .transform({ type: 'normalizeY', basis: 'first', groupBy: 'color' })\n",
       "  .encode('x', (d) => new Date(d.Date))\n",
       "  .encode('y', 'Close')\n",
       "  .encode('color', 'Symbol')\n",
       "  .scale('y', { type: 'log' })\n",
       "  .axis('y', { title: '↑ Change in price (%)' })\n",
       "  .label({\n",
       "    text: 'Symbol',\n",
       "    selector: 'last',\n",
       "    fontSize: 10,\n",
       "  })\n",
       "  .tooltip({ channel: 'y', valueFormatter: '.1f' })\n",
       ";\n",
       "      plot_c658abdfec394adaa454a26e6a8acc8b.render();\n",
       "    });\n",
       "  </script>\n",
       "</body>\n",
       "</html>\n"
      ],
      "text/plain": [
       "<g2py.helper.html.HTML at 0x18ff989d820>"
      ]
     },
     "execution_count": 16,
     "metadata": {},
     "output_type": "execute_result"
    }
   ],
   "source": [
    "from g2py import Plot\n",
    "chart = Plot(\"Chart\")\n",
    "\n",
    "tt='''\n",
    "  line()\n",
    "  .data({\n",
    "    type: 'fetch',\n",
    "    value: 'https://assets.antv.antgroup.com/g2/indices.json',\n",
    "  })\n",
    "  .transform({ type: 'normalizeY', basis: 'first', groupBy: 'color' })\n",
    "  .encode('x', (d) => new Date(d.Date))\n",
    "  .encode('y', 'Close')\n",
    "  .encode('color', 'Symbol')\n",
    "  .scale('y', { type: 'log' })\n",
    "  .axis('y', { title: '↑ Change in price (%)' })\n",
    "  .label({\n",
    "    text: 'Symbol',\n",
    "    selector: 'last',\n",
    "    fontSize: 10,\n",
    "  })\n",
    "  .tooltip({ channel: 'y', valueFormatter: '.1f' })\n",
    "'''\n",
    "chart.set_options(js_code=tt)\n",
    "# chart.render('sssss.html')\n",
    "chart.render_jupyter_lab()"
   ]
  },
  {
   "cell_type": "code",
   "execution_count": 3,
   "id": "a1c983af6397e32b",
   "metadata": {
    "ExecuteTime": {
     "end_time": "2023-10-17T07:04:10.978704100Z",
     "start_time": "2023-10-17T07:04:10.901648200Z"
    }
   },
   "outputs": [
    {
     "data": {
      "text/plain": [
       "'<!DOCTYPE html>\\n<html>\\n<head>\\n  <meta charset=\"UTF-8\">\\n  <meta name=\"viewport\" content=\"width=device-width, initial-scale=1.0\">\\n  <title>g2py</title>\\n    <script type=\"text/javascript\" src=\"https://unpkg.com/@antv/g2@5.1.4/dist/g2.min.js\"></script>\\n</head>\\n<body>\\n  <style>\\n    * {\\n      margin: 0;\\n      padding: 0;\\n      box-sizing: border-box;\\n    }\\n    html, body, div.g2-plot-container {\\n      height: 100%;\\n      overflow: hidden;\\n    }\\n  </style>\\n\\n  <div id=\"ef1b947364db44149c90613fc94ed97e\" style=\"height: 400px;\" class=\"g2-plot-container\"></div>\\n\\n  <script>\\n    var plot_ef1b947364db44149c90613fc94ed97e = new G2.Chart({ container: \"ef1b947364db44149c90613fc94ed97e\" });\\n        plot_ef1b947364db44149c90613fc94ed97e.\\n  line()\\n  .data({\\n    type: \\'fetch\\',\\n    value: \\'https://assets.antv.antgroup.com/g2/indices.json\\',\\n  })\\n  .transform({ type: \\'normalizeY\\', basis: \\'first\\', groupBy: \\'color\\' })\\n  .encode(\\'x\\', (d) => new Date(d.Date))\\n  .encode(\\'y\\', \\'Close\\')\\n  .encode(\\'color\\', \\'Symbol\\')\\n  .scale(\\'y\\', { type: \\'log\\' })\\n  .axis(\\'y\\', { title: \\'↑ Change in price (%)\\' })\\n  .label({\\n    text: \\'Symbol\\',\\n    selector: \\'last\\',\\n    fontSize: 10,\\n  })\\n  .tooltip({ channel: \\'y\\', valueFormatter: \\'.1f\\' })\\n;\\n    plot_ef1b947364db44149c90613fc94ed97e.render();\\n  </script>\\n</body>\\n</html>\\n'"
      ]
     },
     "execution_count": 3,
     "metadata": {},
     "output_type": "execute_result"
    }
   ],
   "source": [
    "chart.render_html()"
   ]
  },
  {
   "cell_type": "code",
   "execution_count": 21,
   "id": "623ede1e3613ffc0",
   "metadata": {
    "ExecuteTime": {
     "end_time": "2023-10-17T07:36:22.643192500Z",
     "start_time": "2023-10-17T07:36:22.607340300Z"
    }
   },
   "outputs": [
    {
     "data": {
      "text/html": [
       "<!DOCTYPE html>\n",
       "<html>\n",
       "<head>\n",
       "  <meta charset=\"UTF-8\">\n",
       "  <title>g2py</title>\n",
       "</head>\n",
       "<body>\n",
       "  <style>\n",
       "    * {\n",
       "      margin: 0;\n",
       "      padding: 0;\n",
       "      box-sizing: border-box;\n",
       "    }\n",
       "    html, body, div.g2-plot-container {\n",
       "      height: 100%;\n",
       "      overflow: hidden;\n",
       "    }\n",
       "  </style>\n",
       "\n",
       "  <div id=\"d2766973667b4d92b2846bdda4ca78e6\"style=\"max-width: 100%; max-height: 100%\"  class=\"g2-plot-container\"></div>\n",
       "\n",
       "  <script>\n",
       "    // load javascript\n",
       "    new Promise(function(resolve, reject) {\n",
       "      var script = document.createElement(\"script\");\n",
       "      script.onload = resolve;\n",
       "      script.onerror = reject;\n",
       "      script.src = \"https://unpkg.com/@antv/g2@5.1.4/dist/g2.min.js\";\n",
       "      document.head.appendChild(script);\n",
       "    }).then(() => {\n",
       "      var plot_d2766973667b4d92b2846bdda4ca78e6 = new G2.Chart({ container: \"d2766973667b4d92b2846bdda4ca78e6\" });\n",
       "          plot_d2766973667b4d92b2846bdda4ca78e6.options({'type': 'density', 'autoFit': 'true', 'data': {'type': 'fetch', 'value': 'https://assets.antv.antgroup.com/g2/species.json', 'transform': [{'type': 'kde', 'field': 'y', 'groupBy': ['x'], 'size': 20}]}, 'encode': {'x': 'x', 'y': 'y', 'color': 'x', 'size': 'size'}, 'tooltip': 'true'});\n",
       "      plot_d2766973667b4d92b2846bdda4ca78e6.render();\n",
       "    });\n",
       "  </script>\n",
       "</body>\n",
       "</html>\n"
      ],
      "text/plain": [
       "<g2py.helper.html.HTML at 0x18ff98b4bb0>"
      ]
     },
     "execution_count": 21,
     "metadata": {},
     "output_type": "execute_result"
    }
   ],
   "source": [
    "chart10 = Plot(\"Chart\")\n",
    "chart10.set_options({\n",
    "  \"type\": \"density\",\n",
    "  \"autoFit\": \"true\",\n",
    "  \"data\": {\n",
    "    \"type\": \"fetch\",\n",
    "    \"value\": \"https://assets.antv.antgroup.com/g2/species.json\",\n",
    "    \"transform\": [{\"type\": \"kde\", \"field\": \"y\", \"groupBy\": [\"x\"], \"size\": 20 }],\n",
    "  },\n",
    "  \"encode\": { \"x\": \"x\", \"y\": \"y\", \"color\": \"x\", \"size\": \"size\" },\n",
    "  \"tooltip\": 'true',\n",
    "})\n",
    "\n",
    "chart10.render_jupyter_lab()"
   ]
  },
  {
   "cell_type": "code",
   "execution_count": 25,
   "id": "26ed48c63db3aee3",
   "metadata": {
    "ExecuteTime": {
     "end_time": "2023-10-17T06:09:46.037857600Z",
     "start_time": "2023-10-17T06:09:45.366985200Z"
    }
   },
   "outputs": [
    {
     "name": "stdout",
     "output_type": "stream",
     "text": [
      "<!DOCTYPE html>\n",
      "<html>\n",
      "<head>\n",
      "  <meta charset=\"UTF-8\">\n",
      "  <meta name=\"viewport\" content=\"width=device-width, initial-scale=1.0\">\n",
      "  <title>g2py</title>\n",
      "    <script type=\"text/javascript\" src=\"https://unpkg.com/@antv/g2@5.1.4/dist/g2.min.js\"></script>\n",
      "</head>\n",
      "<body>\n",
      "  <style>\n",
      "    * {\n",
      "      margin: 0;\n",
      "      padding: 0;\n",
      "      box-sizing: border-box;\n",
      "    }\n",
      "    html, body, div.g2-plot-container {\n",
      "      height: 100%;\n",
      "      overflow: hidden;\n",
      "    }\n",
      "  </style>\n",
      "\n",
      "  <div id=\"ced913bca61540908f25aff84c8d8794\" class=\"g2-plot-container\"></div>\n",
      "\n",
      "  <script>\n",
      "    var plot_ced913bca61540908f25aff84c8d8794 = new G2.Chart({ container: \"ced913bca61540908f25aff84c8d8794\" });\n",
      "        plot_ced913bca61540908f25aff84c8d8794.options({'width': 800, 'type': 'density', 'autoFit': 'true', 'data': {'type': 'fetch', 'value': 'https://assets.antv.antgroup.com/g2/species.json', 'transform': [{'type': 'kde', 'field': 'y', 'groupBy': ['x'], 'size': 20}]}, 'encode': {'x': 'x', 'y': 'y', 'color': 'x', 'size': 'size'}, 'tooltip': 'true'});\n",
      "    plot_ced913bca61540908f25aff84c8d8794.render();\n",
      "  </script>\n",
      "</body>\n",
      "</html>\n"
     ]
    }
   ],
   "source": [
    "print(chart10.render_html())"
   ]
  },
  {
   "cell_type": "code",
   "execution_count": 4,
   "id": "6e102f6748113715",
   "metadata": {},
   "outputs": [],
   "source": [
    "from g2py import Plot\n",
    "\n",
    "bar= Plot(\"Chart\")\n",
    "bar.set_options({\n",
    "  \"type\": \"interval\",\n",
    "  \"autoFit\": \"true\",\n",
    "  \"data\": [\n",
    "    { \"year\": \"1991\", \"value\": 3 },\n",
    "    { \"year\": \"1992\", \"value\": 4 },\n",
    "    { \"year\": \"1993\", \"value\": 3.5 },\n",
    "    { \"year\": \"1994\", \"value\": 5 },\n",
    "    { \"year\": \"1995\", \"value\": 4.9 },\n",
    "    { \"year\": \"1996\", \"value\": 6 },\n",
    "    { \"year\": \"1997\", \"value\": 7 },\n",
    "    { \"year\": \"1998\", \"value\": 9 },\n",
    "    { \"year\": \"1999\", \"value\": 13 },\n",
    "  ],\n",
    "  \"encode\": { \"x\": \"year\", \"y\": \"value\" },\n",
    "  \"axis\": { \"y\": { \"labelFormatter\": \".0%\" } },\n",
    "});\n",
    "\n",
    "bar.render_jupyter_lab();"
   ]
  },
  {
   "cell_type": "code",
   "execution_count": null,
   "id": "6bdd5405-46c0-460f-8eb1-ece9d6b665ec",
   "metadata": {},
   "outputs": [],
   "source": []
  }
 ],
 "metadata": {
  "kernelspec": {
   "display_name": "Python 3 (ipykernel)",
   "language": "python",
   "name": "python3"
  },
  "language_info": {
   "codemirror_mode": {
    "name": "ipython",
    "version": 3
   },
   "file_extension": ".py",
   "mimetype": "text/x-python",
   "name": "python",
   "nbconvert_exporter": "python",
   "pygments_lexer": "ipython3",
   "version": "3.9.12"
  }
 },
 "nbformat": 4,
 "nbformat_minor": 5
}
